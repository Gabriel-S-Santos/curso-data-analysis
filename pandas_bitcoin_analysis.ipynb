{
  "nbformat": 4,
  "nbformat_minor": 0,
  "metadata": {
    "colab": {
      "provenance": [],
      "authorship_tag": "ABX9TyNs6OZ/8nosniX9N2FcETBW",
      "include_colab_link": true
    },
    "kernelspec": {
      "name": "python3",
      "display_name": "Python 3"
    },
    "language_info": {
      "name": "python"
    }
  },
  "cells": [
    {
      "cell_type": "markdown",
      "metadata": {
        "id": "view-in-github",
        "colab_type": "text"
      },
      "source": [
        "<a href=\"https://colab.research.google.com/github/Gabriel-S-Santos/curso-data-analysis/blob/main/pandas_bitcoin_analysis.ipynb\" target=\"_parent\"><img src=\"https://colab.research.google.com/assets/colab-badge.svg\" alt=\"Open In Colab\"/></a>"
      ]
    },
    {
      "cell_type": "code",
      "execution_count": 3,
      "metadata": {
        "id": "YMQ0l8TAdjE6"
      },
      "outputs": [],
      "source": [
        "import requests\n",
        "import pandas as pd"
      ]
    },
    {
      "cell_type": "code",
      "source": [
        "def get_historic_price(symbol, exchange=\"bitfinex\", after=\"2018-09-01\"):\n",
        "  url = 'https://api.cryptowat.ch/markets/{exchange}/{symbol}usd/ohlc'.format(symbol=symbol, exchange=exchange)\n",
        "  resp = requests.get(url, params={\n",
        "      'periods': '3600',\n",
        "      'after': str(int(pd.Timestamp(after).timestamp()))\n",
        "  })\n",
        "\n",
        "  resp.raise_for_status()\n",
        "  data = resp.json()\n",
        "  df = pd.DataFrame(data['result']['3600'], columns=['CloseTime', 'OpenPrice', 'HighPrice', 'LowPrice', 'ClosePrice', 'Volume', 'NA'])\n",
        "  df['CloseTime'] = pd.to_datetime(df['CloseTime'], unit='s')\n",
        "  df.set_index('CloseTime', inplace=True)\n",
        "  return df\n"
      ],
      "metadata": {
        "id": "fPnh5Wicgipq"
      },
      "execution_count": 1,
      "outputs": []
    },
    {
      "cell_type": "code",
      "source": [
        "last_week = (pd.Timestamp.now() - pd.offsets.Day(7))\n",
        "last_week"
      ],
      "metadata": {
        "colab": {
          "base_uri": "https://localhost:8080/"
        },
        "id": "vCQ0SdaYipbm",
        "outputId": "7c0a62c3-7882-4fb9-9611-b51fae5e895c"
      },
      "execution_count": 4,
      "outputs": [
        {
          "output_type": "execute_result",
          "data": {
            "text/plain": [
              "Timestamp('2022-11-08 17:55:10.804008')"
            ]
          },
          "metadata": {},
          "execution_count": 4
        }
      ]
    },
    {
      "cell_type": "code",
      "source": [
        "btc = get_historic_price('btc', 'bitstamp', after=last_week)\n",
        "btc"
      ],
      "metadata": {
        "colab": {
          "base_uri": "https://localhost:8080/",
          "height": 455
        },
        "id": "O-fmPXl0jBCn",
        "outputId": "8e272b63-e09a-452e-a335-57bc96c5f9c8"
      },
      "execution_count": 5,
      "outputs": [
        {
          "output_type": "execute_result",
          "data": {
            "text/plain": [
              "                     OpenPrice  HighPrice  LowPrice  ClosePrice       Volume  \\\n",
              "CloseTime                                                                      \n",
              "2022-11-08 18:00:00      20391      20436     19339       19340   684.360708   \n",
              "2022-11-08 19:00:00      19340      19538     18433       18612  2117.332738   \n",
              "2022-11-08 20:00:00      18591      18722     17114       18280  2132.479344   \n",
              "2022-11-08 21:00:00      18284      18487     17867       18162  1254.589530   \n",
              "2022-11-08 22:00:00      18160      18711     18146       18701   594.433067   \n",
              "...                        ...        ...       ...         ...          ...   \n",
              "2022-11-15 14:00:00      16818      17095     16817       16991   446.237672   \n",
              "2022-11-15 15:00:00      16987      16987     16809       16915   344.311669   \n",
              "2022-11-15 16:00:00      16918      17060     16865       16981   388.265456   \n",
              "2022-11-15 17:00:00      16970      17046     16910       16985   231.074838   \n",
              "2022-11-15 18:00:00      16991      17046     16954       16999   162.351738   \n",
              "\n",
              "                               NA  \n",
              "CloseTime                          \n",
              "2022-11-08 18:00:00  1.359334e+07  \n",
              "2022-11-08 19:00:00  3.988862e+07  \n",
              "2022-11-08 20:00:00  3.864715e+07  \n",
              "2022-11-08 21:00:00  2.284696e+07  \n",
              "2022-11-08 22:00:00  1.092563e+07  \n",
              "...                           ...  \n",
              "2022-11-15 14:00:00  7.573125e+06  \n",
              "2022-11-15 15:00:00  5.824150e+06  \n",
              "2022-11-15 16:00:00  6.577924e+06  \n",
              "2022-11-15 17:00:00  3.924803e+06  \n",
              "2022-11-15 18:00:00  2.760012e+06  \n",
              "\n",
              "[169 rows x 6 columns]"
            ],
            "text/html": [
              "\n",
              "  <div id=\"df-0b232e87-21f6-4c3d-8214-3cb97450a24d\">\n",
              "    <div class=\"colab-df-container\">\n",
              "      <div>\n",
              "<style scoped>\n",
              "    .dataframe tbody tr th:only-of-type {\n",
              "        vertical-align: middle;\n",
              "    }\n",
              "\n",
              "    .dataframe tbody tr th {\n",
              "        vertical-align: top;\n",
              "    }\n",
              "\n",
              "    .dataframe thead th {\n",
              "        text-align: right;\n",
              "    }\n",
              "</style>\n",
              "<table border=\"1\" class=\"dataframe\">\n",
              "  <thead>\n",
              "    <tr style=\"text-align: right;\">\n",
              "      <th></th>\n",
              "      <th>OpenPrice</th>\n",
              "      <th>HighPrice</th>\n",
              "      <th>LowPrice</th>\n",
              "      <th>ClosePrice</th>\n",
              "      <th>Volume</th>\n",
              "      <th>NA</th>\n",
              "    </tr>\n",
              "    <tr>\n",
              "      <th>CloseTime</th>\n",
              "      <th></th>\n",
              "      <th></th>\n",
              "      <th></th>\n",
              "      <th></th>\n",
              "      <th></th>\n",
              "      <th></th>\n",
              "    </tr>\n",
              "  </thead>\n",
              "  <tbody>\n",
              "    <tr>\n",
              "      <th>2022-11-08 18:00:00</th>\n",
              "      <td>20391</td>\n",
              "      <td>20436</td>\n",
              "      <td>19339</td>\n",
              "      <td>19340</td>\n",
              "      <td>684.360708</td>\n",
              "      <td>1.359334e+07</td>\n",
              "    </tr>\n",
              "    <tr>\n",
              "      <th>2022-11-08 19:00:00</th>\n",
              "      <td>19340</td>\n",
              "      <td>19538</td>\n",
              "      <td>18433</td>\n",
              "      <td>18612</td>\n",
              "      <td>2117.332738</td>\n",
              "      <td>3.988862e+07</td>\n",
              "    </tr>\n",
              "    <tr>\n",
              "      <th>2022-11-08 20:00:00</th>\n",
              "      <td>18591</td>\n",
              "      <td>18722</td>\n",
              "      <td>17114</td>\n",
              "      <td>18280</td>\n",
              "      <td>2132.479344</td>\n",
              "      <td>3.864715e+07</td>\n",
              "    </tr>\n",
              "    <tr>\n",
              "      <th>2022-11-08 21:00:00</th>\n",
              "      <td>18284</td>\n",
              "      <td>18487</td>\n",
              "      <td>17867</td>\n",
              "      <td>18162</td>\n",
              "      <td>1254.589530</td>\n",
              "      <td>2.284696e+07</td>\n",
              "    </tr>\n",
              "    <tr>\n",
              "      <th>2022-11-08 22:00:00</th>\n",
              "      <td>18160</td>\n",
              "      <td>18711</td>\n",
              "      <td>18146</td>\n",
              "      <td>18701</td>\n",
              "      <td>594.433067</td>\n",
              "      <td>1.092563e+07</td>\n",
              "    </tr>\n",
              "    <tr>\n",
              "      <th>...</th>\n",
              "      <td>...</td>\n",
              "      <td>...</td>\n",
              "      <td>...</td>\n",
              "      <td>...</td>\n",
              "      <td>...</td>\n",
              "      <td>...</td>\n",
              "    </tr>\n",
              "    <tr>\n",
              "      <th>2022-11-15 14:00:00</th>\n",
              "      <td>16818</td>\n",
              "      <td>17095</td>\n",
              "      <td>16817</td>\n",
              "      <td>16991</td>\n",
              "      <td>446.237672</td>\n",
              "      <td>7.573125e+06</td>\n",
              "    </tr>\n",
              "    <tr>\n",
              "      <th>2022-11-15 15:00:00</th>\n",
              "      <td>16987</td>\n",
              "      <td>16987</td>\n",
              "      <td>16809</td>\n",
              "      <td>16915</td>\n",
              "      <td>344.311669</td>\n",
              "      <td>5.824150e+06</td>\n",
              "    </tr>\n",
              "    <tr>\n",
              "      <th>2022-11-15 16:00:00</th>\n",
              "      <td>16918</td>\n",
              "      <td>17060</td>\n",
              "      <td>16865</td>\n",
              "      <td>16981</td>\n",
              "      <td>388.265456</td>\n",
              "      <td>6.577924e+06</td>\n",
              "    </tr>\n",
              "    <tr>\n",
              "      <th>2022-11-15 17:00:00</th>\n",
              "      <td>16970</td>\n",
              "      <td>17046</td>\n",
              "      <td>16910</td>\n",
              "      <td>16985</td>\n",
              "      <td>231.074838</td>\n",
              "      <td>3.924803e+06</td>\n",
              "    </tr>\n",
              "    <tr>\n",
              "      <th>2022-11-15 18:00:00</th>\n",
              "      <td>16991</td>\n",
              "      <td>17046</td>\n",
              "      <td>16954</td>\n",
              "      <td>16999</td>\n",
              "      <td>162.351738</td>\n",
              "      <td>2.760012e+06</td>\n",
              "    </tr>\n",
              "  </tbody>\n",
              "</table>\n",
              "<p>169 rows × 6 columns</p>\n",
              "</div>\n",
              "      <button class=\"colab-df-convert\" onclick=\"convertToInteractive('df-0b232e87-21f6-4c3d-8214-3cb97450a24d')\"\n",
              "              title=\"Convert this dataframe to an interactive table.\"\n",
              "              style=\"display:none;\">\n",
              "        \n",
              "  <svg xmlns=\"http://www.w3.org/2000/svg\" height=\"24px\"viewBox=\"0 0 24 24\"\n",
              "       width=\"24px\">\n",
              "    <path d=\"M0 0h24v24H0V0z\" fill=\"none\"/>\n",
              "    <path d=\"M18.56 5.44l.94 2.06.94-2.06 2.06-.94-2.06-.94-.94-2.06-.94 2.06-2.06.94zm-11 1L8.5 8.5l.94-2.06 2.06-.94-2.06-.94L8.5 2.5l-.94 2.06-2.06.94zm10 10l.94 2.06.94-2.06 2.06-.94-2.06-.94-.94-2.06-.94 2.06-2.06.94z\"/><path d=\"M17.41 7.96l-1.37-1.37c-.4-.4-.92-.59-1.43-.59-.52 0-1.04.2-1.43.59L10.3 9.45l-7.72 7.72c-.78.78-.78 2.05 0 2.83L4 21.41c.39.39.9.59 1.41.59.51 0 1.02-.2 1.41-.59l7.78-7.78 2.81-2.81c.8-.78.8-2.07 0-2.86zM5.41 20L4 18.59l7.72-7.72 1.47 1.35L5.41 20z\"/>\n",
              "  </svg>\n",
              "      </button>\n",
              "      \n",
              "  <style>\n",
              "    .colab-df-container {\n",
              "      display:flex;\n",
              "      flex-wrap:wrap;\n",
              "      gap: 12px;\n",
              "    }\n",
              "\n",
              "    .colab-df-convert {\n",
              "      background-color: #E8F0FE;\n",
              "      border: none;\n",
              "      border-radius: 50%;\n",
              "      cursor: pointer;\n",
              "      display: none;\n",
              "      fill: #1967D2;\n",
              "      height: 32px;\n",
              "      padding: 0 0 0 0;\n",
              "      width: 32px;\n",
              "    }\n",
              "\n",
              "    .colab-df-convert:hover {\n",
              "      background-color: #E2EBFA;\n",
              "      box-shadow: 0px 1px 2px rgba(60, 64, 67, 0.3), 0px 1px 3px 1px rgba(60, 64, 67, 0.15);\n",
              "      fill: #174EA6;\n",
              "    }\n",
              "\n",
              "    [theme=dark] .colab-df-convert {\n",
              "      background-color: #3B4455;\n",
              "      fill: #D2E3FC;\n",
              "    }\n",
              "\n",
              "    [theme=dark] .colab-df-convert:hover {\n",
              "      background-color: #434B5C;\n",
              "      box-shadow: 0px 1px 3px 1px rgba(0, 0, 0, 0.15);\n",
              "      filter: drop-shadow(0px 1px 2px rgba(0, 0, 0, 0.3));\n",
              "      fill: #FFFFFF;\n",
              "    }\n",
              "  </style>\n",
              "\n",
              "      <script>\n",
              "        const buttonEl =\n",
              "          document.querySelector('#df-0b232e87-21f6-4c3d-8214-3cb97450a24d button.colab-df-convert');\n",
              "        buttonEl.style.display =\n",
              "          google.colab.kernel.accessAllowed ? 'block' : 'none';\n",
              "\n",
              "        async function convertToInteractive(key) {\n",
              "          const element = document.querySelector('#df-0b232e87-21f6-4c3d-8214-3cb97450a24d');\n",
              "          const dataTable =\n",
              "            await google.colab.kernel.invokeFunction('convertToInteractive',\n",
              "                                                     [key], {});\n",
              "          if (!dataTable) return;\n",
              "\n",
              "          const docLinkHtml = 'Like what you see? Visit the ' +\n",
              "            '<a target=\"_blank\" href=https://colab.research.google.com/notebooks/data_table.ipynb>data table notebook</a>'\n",
              "            + ' to learn more about interactive tables.';\n",
              "          element.innerHTML = '';\n",
              "          dataTable['output_type'] = 'display_data';\n",
              "          await google.colab.output.renderOutput(dataTable, element);\n",
              "          const docLink = document.createElement('div');\n",
              "          docLink.innerHTML = docLinkHtml;\n",
              "          element.appendChild(docLink);\n",
              "        }\n",
              "      </script>\n",
              "    </div>\n",
              "  </div>\n",
              "  "
            ]
          },
          "metadata": {},
          "execution_count": 5
        }
      ]
    },
    {
      "cell_type": "code",
      "source": [
        "btc['ClosePrice'].plot(figsize=(15, 7))"
      ],
      "metadata": {
        "colab": {
          "base_uri": "https://localhost:8080/",
          "height": 483
        },
        "id": "3-yv8TsllVMh",
        "outputId": "188783af-c75f-44b2-936e-39981bf71759"
      },
      "execution_count": 6,
      "outputs": [
        {
          "output_type": "execute_result",
          "data": {
            "text/plain": [
              "<matplotlib.axes._subplots.AxesSubplot at 0x7f9b5ec114d0>"
            ]
          },
          "metadata": {},
          "execution_count": 6
        },
        {
          "output_type": "display_data",
          "data": {
            "text/plain": [
              "<Figure size 1080x504 with 1 Axes>"
            ],
            "image/png": "[encoded data removed]"
          },
          "metadata": {
            "needs_background": "light"
          }
        }
      ]
    }
  ]
}